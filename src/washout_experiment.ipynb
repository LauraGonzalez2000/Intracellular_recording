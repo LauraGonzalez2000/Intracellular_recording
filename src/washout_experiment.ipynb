{
 "cells": [
  {
   "cell_type": "code",
   "execution_count": 11,
   "id": "9e63d59c-4236-4930-819c-3ac1ba5f21fd",
   "metadata": {},
   "outputs": [],
   "source": [
    "import os\n",
    "from igor2.packed import load as loadpxp\n",
    "from trace_analysis import DataFile"
   ]
  },
  {
   "cell_type": "markdown",
   "id": "1c5405b1-f71d-4842-96a3-c69afaf6d2f6",
   "metadata": {},
   "source": [
    "## try with one file"
   ]
  },
  {
   "cell_type": "code",
   "execution_count": null,
   "id": "0214076e-5558-4314-8e69-23f0f13bba20",
   "metadata": {},
   "outputs": [],
   "source": [
    "datafile = loadpxp(file_path)"
   ]
  },
  {
   "cell_type": "markdown",
   "id": "3fc60730-1b9e-4558-9c65-a21368d38611",
   "metadata": {},
   "source": [
    "## try for all files"
   ]
  },
  {
   "cell_type": "code",
   "execution_count": 6,
   "id": "5de9c98d-b357-4781-bf6f-b194cbe759b4",
   "metadata": {},
   "outputs": [],
   "source": [
    "def find_nm_files(root_folder):\n",
    "    nm_paths = []\n",
    "    \n",
    "    # Walk through all directories and files in the root_folder\n",
    "    for folder, _, files in os.walk(root_folder):\n",
    "        # Check each file in the current directory\n",
    "        for file in files:\n",
    "\n",
    "            # Skip files with specific extensions\n",
    "            if any(ext in file for ext in ['HDF5', 'txt', 'pdf', 'log', 'xlsx']):\n",
    "                break\n",
    "            # Construct the full path of the file\n",
    "            file_path = os.path.join(folder, file)\n",
    "            normalized_path = os.path.normpath(file_path)\n",
    "            forward_slash_path = normalized_path.replace(\"\\\\\", \"/\")\n",
    "            nm_paths.append(forward_slash_path)\n",
    "            #print('-', file)\n",
    "\n",
    "    return nm_paths"
   ]
  },
  {
   "cell_type": "code",
   "execution_count": 10,
   "id": "e508ac45-b364-430d-9c67-3f75be6ca97e",
   "metadata": {},
   "outputs": [
    {
     "data": {
      "text/plain": [
       "['D:/Internship_Rebola_ICM/RAW_DATA_TO_ANALYSE_WASHOUT/nm20Jun2024c0/nm20Jun2024c0_002.pxp',\n",
       " 'D:/Internship_Rebola_ICM/RAW_DATA_TO_ANALYSE_WASHOUT/nm21Jun2024c0/nm21Jun2024c0_000.pxp',\n",
       " 'D:/Internship_Rebola_ICM/RAW_DATA_TO_ANALYSE_WASHOUT/nm28Jun2024c1/nm28Jun2024c1_000.pxp',\n",
       " 'D:/Internship_Rebola_ICM/RAW_DATA_TO_ANALYSE_WASHOUT/nm28Jun2024c0/nm28Jun2024c0_000.pxp']"
      ]
     },
     "execution_count": 10,
     "metadata": {},
     "output_type": "execute_result"
    }
   ],
   "source": [
    "files = find_nm_files('D:\\Internship_Rebola_ICM\\RAW_DATA_TO_ANALYSE_WASHOUT')\n",
    "files"
   ]
  },
  {
   "cell_type": "code",
   "execution_count": 12,
   "id": "6530a7c2-a48a-46e6-9101-c521e03b2254",
   "metadata": {},
   "outputs": [
    {
     "name": "stdout",
     "output_type": "stream",
     "text": [
      "OK data was loaded\n",
      "Recordings were not loaded: Unable to allocate 229. MiB for an array with shape (300, 100000) and data type float64\n",
      "Error method get_average_recordings_aligned(self)\n",
      "OK infos were filled correctly\n",
      "OK stimulation traces found\n",
      "data was not loaded\n",
      "Recordings were not loaded: 'DataFile' object has no attribute 'pxp'\n",
      "Error method get_average_recordings_aligned(self)\n",
      "infos were not filled correctly\n",
      "stimulation parameters not found\n",
      "OK data was loaded\n",
      "Recordings were not loaded: Unable to allocate 229. MiB for an array with shape (300, 100000) and data type float64\n",
      "Error method get_average_recordings_aligned(self)\n",
      "OK infos were filled correctly\n",
      "stimulation parameters not found\n",
      "data was not loaded\n",
      "Recordings were not loaded: 'DataFile' object has no attribute 'pxp'\n",
      "Error method get_average_recordings_aligned(self)\n",
      "infos were not filled correctly\n",
      "stimulation parameters not found\n"
     ]
    }
   ],
   "source": [
    "for file in files:\n",
    "    try:\n",
    "        datafile = DataFile(file)\n",
    "    except Exception as e:\n",
    "        print(f\"Error analysing this file : {e}\")"
   ]
  }
 ],
 "metadata": {
  "kernelspec": {
   "display_name": "Python 3 (ipykernel)",
   "language": "python",
   "name": "python3"
  },
  "language_info": {
   "codemirror_mode": {
    "name": "ipython",
    "version": 3
   },
   "file_extension": ".py",
   "mimetype": "text/x-python",
   "name": "python",
   "nbconvert_exporter": "python",
   "pygments_lexer": "ipython3",
   "version": "3.11.7"
  }
 },
 "nbformat": 4,
 "nbformat_minor": 5
}
