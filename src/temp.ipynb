{
 "cells": [
  {
   "cell_type": "code",
   "execution_count": 7,
   "id": "d12d204d-bda9-4a17-9532-bf0a897243eb",
   "metadata": {},
   "outputs": [],
   "source": [
    "\n",
    "import os\n",
    "import pprint\n",
    "from PdfPage import PdfPage\n",
    "from trace_analysis import DataFile\n",
    "from igor2.packed import load as loadpxp"
   ]
  },
  {
   "cell_type": "code",
   "execution_count": 1,
   "id": "d58bb626-1a42-4f9d-8a0a-848c85f10898",
   "metadata": {},
   "outputs": [
    {
     "data": {
      "text/plain": [
       "11"
      ]
     },
     "execution_count": 1,
     "metadata": {},
     "output_type": "execute_result"
    }
   ],
   "source": [
    "round(11.4)"
   ]
  },
  {
   "cell_type": "code",
   "execution_count": 2,
   "id": "57d292a2-6098-463b-81a5-5f8b6e77c962",
   "metadata": {},
   "outputs": [],
   "source": [
    "import numpy as np\n",
    "array = [[np.float16(0.04086), np.float16(0.05313), np.float16(0.0443), np.float16(0.0399), np.float16(0.0417), np.float16(0.05194), np.float16(0.03162), np.float16(0.05243), np.float16(0.02942), np.float16(0.0744), np.float16(0.0669), np.float16(0.0621), np.float16(0.07135), np.float16(0.05106), np.float16(0.05154), np.float16(0.03702), np.float16(0.02588), np.float16(0.02779), np.float16(0.01477), np.float16(0.01178), np.float16(0.006367), np.float16(0.01443), np.float16(0.01141), np.float16(0.01654), np.float16(0.01817), np.float16(0.01406), np.float16(0.01701), np.float16(0.01351), np.float16(0.01298), np.float16(0.01814), np.float16(0.01367), np.float16(0.02405), np.float16(0.01596), np.float16(0.01511), np.float16(0.01784), np.float16(0.01997), np.float16(0.01994), np.float16(0.02596), np.float16(0.02492), np.float16(0.02461), np.float16(0.02762), np.float16(0.02809), np.float16(0.0324), np.float16(0.02951), np.float16(0.03323), np.float16(0.0291), np.float16(0.034), np.float16(0.03622), np.float16(0.03613), np.float16(0.04605)], [np.float16(0.02971), np.float16(0.03445), np.float16(0.02594), np.float16(0.02808), np.float16(0.02913), np.float16(0.02867), np.float16(0.02843), np.float16(0.0337), np.float16(0.03717), \n",
    "np.float16(0.03897), np.float16(0.04874), np.float16(0.03375), np.float16(0.02654), np.float16(0.02263), np.float16(0.0101), np.float16(0.00749), np.float16(0.00257), np.float16(0.000946), np.float16(0.00208), np.float16(0.00322), np.float16(0.000239), np.float16(0.003098), np.float16(0.002197), np.float16(0.004086), np.float16(0.005585), np.float16(0.00401), np.float16(0.005295), np.float16(0.00432), np.float16(0.00714), np.float16(0.005398), np.float16(0.005444), np.float16(0.00566), np.float16(0.005184), np.float16(0.006634), np.float16(0.005756), np.float16(0.004864), np.float16(0.007202), np.float16(0.00883), np.float16(0.00945), np.float16(0.005985), np.float16(0.00667), np.float16(0.003448), np.float16(0.0068), np.float16(0.009674), np.float16(0.013054), np.float16(0.00677), np.float16(0.005356), np.float16(0.009285), np.float16(0.007206), np.float16(0.01039)]]"
   ]
  },
  {
   "cell_type": "code",
   "execution_count": 4,
   "id": "44ca5e4b-b2f5-48fd-8f29-ad796cdf2540",
   "metadata": {},
   "outputs": [
    {
     "data": {
      "text/plain": [
       "array([0.03528 , 0.0438  , 0.03513 , 0.034   , 0.0354  , 0.0403  ,\n",
       "       0.03003 , 0.04306 , 0.0333  , 0.0567  , 0.0578  , 0.0479  ,\n",
       "       0.04895 , 0.03683 , 0.03082 , 0.02225 , 0.01422 , 0.014366,\n",
       "       0.00842 , 0.0075  , 0.003304, 0.00876 , 0.006805, 0.010315,\n",
       "       0.01188 , 0.00903 , 0.011154, 0.00891 , 0.010056, 0.01177 ,\n",
       "       0.00956 , 0.014854, 0.010574, 0.01087 , 0.011795, 0.01242 ,\n",
       "       0.01357 , 0.0174  , 0.01718 , 0.0153  , 0.01715 , 0.01578 ,\n",
       "       0.0196  , 0.01959 , 0.02315 , 0.01793 , 0.01968 , 0.02275 ,\n",
       "       0.02167 , 0.02823 ], dtype=float16)"
      ]
     },
     "execution_count": 4,
     "metadata": {},
     "output_type": "execute_result"
    }
   ],
   "source": [
    "mean = np.mean(array, axis=0)\n",
    "mean"
   ]
  },
  {
   "cell_type": "code",
   "execution_count": 5,
   "id": "c6b25d15-0aa7-4bf2-b4ee-aa468b0379e0",
   "metadata": {},
   "outputs": [
    {
     "data": {
      "text/plain": [
       "array([0.005577, 0.00934 , 0.009186, 0.005905, 0.006283, 0.011635,\n",
       "       0.001582, 0.00937 , 0.003876, 0.01772 , 0.00908 , 0.014175,\n",
       "       0.02242 , 0.01421 , 0.02072 , 0.01476 , 0.01166 , 0.01342 ,\n",
       "       0.006344, 0.004276, 0.003069, 0.00566 , 0.00461 , 0.006226,\n",
       "       0.006294, 0.005028, 0.00586 , 0.004593, 0.00292 , 0.006374,\n",
       "       0.004116, 0.00919 , 0.005386, 0.004234, 0.00604 , 0.007557,\n",
       "       0.00637 , 0.00856 , 0.007732, 0.009315, 0.010475, 0.01232 ,\n",
       "       0.0128  , 0.00992 , 0.010086, 0.01117 , 0.01432 , 0.01347 ,\n",
       "       0.014465, 0.01784 ], dtype=float16)"
      ]
     },
     "execution_count": 5,
     "metadata": {},
     "output_type": "execute_result"
    }
   ],
   "source": [
    "std = np.std(array, axis=0)\n",
    "std"
   ]
  },
  {
   "cell_type": "code",
   "execution_count": 16,
   "id": "8c55e6ca-2a62-4908-a960-2d8cf9915e83",
   "metadata": {},
   "outputs": [],
   "source": [
    "data = loadpxp('D:/Internship_Rebola_ICM/RAW_DATA_TO_ANALYSE/nm10Jun2024c1/nm10Jun2024c1_000.pxp')"
   ]
  },
  {
   "cell_type": "code",
   "execution_count": 17,
   "id": "ca9994f2-6abe-4b6c-a339-39c9f7d22ba0",
   "metadata": {},
   "outputs": [
    {
     "name": "stdout",
     "output_type": "stream",
     "text": [
      "([<UnknownRecord-11 1946669965264>,\n",
      "  <UnknownRecord-20 1946502662736>,\n",
      "  <UnknownRecord-11 1946502670544>,\n",
      "  <HistoryRecord 1946670655824>,\n",
      "  <VariablesRecord 1946667664720>,\n",
      "  <WaveRecord 1946669761552>,\n",
      "  <WaveRecord 1946669777104>,\n",
      "  <WaveRecord 1946461297872>,\n",
      "  <WaveRecord 1946511969296>,\n",
      "  <WaveRecord 1946665460560>,\n",
      "  <WaveRecord 1946470503440>,\n",
      "  <WaveRecord 1946737357520>,\n",
      "  <WaveRecord 1946511616976>,\n",
      "  <WaveRecord 1946511997328>,\n",
      "  <WaveRecord 1946469876752>,\n",
      "  <WaveRecord 1946511450128>,\n",
      "  <WaveRecord 1946669773008>,\n",
      "  <WaveRecord 1946511606800>,\n",
      "  <WaveRecord 1946512647824>,\n",
      "  <WaveRecord 1946669698960>,\n",
      "  <WaveRecord 1946665457552>,\n",
      "  <FolderStartRecord 1946464498448>,\n",
      "  <VariablesRecord 1946450202064>,\n",
      "  <WaveRecord 1946670030480>,\n",
      "  <FolderStartRecord 1946669720656>,\n",
      "  <VariablesRecord 1946669702288>,\n",
      "  <FolderEndRecord 1946670652048>,\n",
      "  <FolderEndRecord 1946670555024>,\n",
      "  <FolderStartRecord 1946737302288>,\n",
      "  <VariablesRecord 1946737300048>,\n",
      "  <WaveRecord 1946737424144>,\n",
      "  <WaveRecord 1946667669968>,\n",
      "  <WaveRecord 1946737414224>,\n",
      "  <WaveRecord 1946669958928>,\n",
      "  <WaveRecord 1946667665872>,\n",
      "  <WaveRecord 1946737309456>,\n",
      "  <WaveRecord 1946669970384>,\n",
      "  <WaveRecord 1946512639120>,\n",
      "  <WaveRecord 1946737412368>,\n",
      "  <FolderStartRecord 1946737310864>,\n",
      "  <WaveRecord 1946670655952>,\n",
      "  <WaveRecord 1946669970960>,\n",
      "  <WaveRecord 1946670653520>,\n",
      "  <WaveRecord 1946737329488>,\n",
      "  <WaveRecord 1946737669328>,\n",
      "  <WaveRecord 1946737660240>,\n",
      "  <WaveRecord 1946737664912>,\n",
      "  <WaveRecord 1946737505616>,\n",
      "  <WaveRecord 1946737493904>,\n",
      "  <WaveRecord 1946737505360>,\n",
      "  <WaveRecord 1946737470800>,\n",
      "  <WaveRecord 1946669977744>,\n",
      "  <WaveRecord 1946670653712>,\n",
      "  <WaveRecord 1946511602256>,\n",
      "  <WaveRecord 1946737294352>,\n",
      "  <WaveRecord 1946669773200>,\n",
      "  <WaveRecord 1946511793616>,\n",
      "  <WaveRecord 1946737473296>,\n",
      "  <FolderEndRecord 1946737339536>,\n",
      "  <FolderStartRecord 1946737666576>,\n",
      "  <VariablesRecord 1946737660816>,\n",
      "  <FolderEndRecord 1946737461968>,\n",
      "  <FolderEndRecord 1946737331600>,\n",
      "  <FolderStartRecord 1946670100752>,\n",
      "  <FolderStartRecord 1946737498064>,\n",
      "  <VariablesRecord 1946737432656>,\n",
      "  <FolderEndRecord 1946737670992>,\n",
      "  <FolderStartRecord 1946737436304>,\n",
      "  <VariablesRecord 1946737440720>,\n",
      "  <FolderEndRecord 1946737292816>,\n",
      "  <FolderEndRecord 1946737428880>,\n",
      "  <FolderStartRecord 1946737431824>,\n",
      "  <VariablesRecord 1946737544336>,\n",
      "  <FolderEndRecord 1946737498000>,\n",
      "  <RecreationRecord 1946737470480>,\n",
      "  <GetHistoryRecord 1946737418960>,\n",
      "  <ProcedureRecord 1946665456272>],\n",
      " {'root': {b'AcqMode': b'epic precise',\n",
      "           b'CT_RecordMode': 1.0,\n",
      "           b'CT_TimeIntvl': <WaveRecord 1946461297872>,\n",
      "           b'CT_TimeStamp': <WaveRecord 1946669777104>,\n",
      "           b'CurrentPrefix': b'Record',\n",
      "           b'FileDate': b'10 Jun 2024',\n",
      "           b'FileDateTime': 3800884754.054,\n",
      "           b'FileFinish': b'17:21:25',\n",
      "           b'FileFormat': 3.097,\n",
      "           b'FileFormatStr': b'NM3.0a',\n",
      "           b'FileTime': b'17:19:13',\n",
      "           b'FileType': b'NMData',\n",
      "           b'MultiClampTelegraphs': {b'serial837205_chan1': {b'Alpha': 1.0,\n",
      "                                                             b'ExtCmdSens': 0.02,\n",
      "                                                             b'HardwareType': 1.0,\n",
      "                                                             b'HardwareTypeStr': b'Mult'\n",
      "                                                                                 b'iCla'\n",
      "                                                                                 b'mp 7'\n",
      "                                                                                 b'00B',\n",
      "                                                             b'LPFCutoff': 10000.0,\n",
      "                                                             b'MembraneCap': 0.0,\n",
      "                                                             b'OperatingMode': 0.0,\n",
      "                                                             b'OperatingModeStr': b'V-Cl'\n",
      "                                                                                  b'amp',\n",
      "                                                             b'RawOutSignal': 12.0,\n",
      "                                                             b'RawOutSignalStr': b'Vm',\n",
      "                                                             b'RawScaleFactor': 1.0,\n",
      "                                                             b'RawScaleFactorUnits': 0.0,\n",
      "                                                             b'RawScaleFactorUnitsStr': b'V/V',\n",
      "                                                             b'ScaleFactor': 0.5,\n",
      "                                                             b'ScaleFactorUnits': 6.0,\n",
      "                                                             b'ScaleFactorUnitsStr': b'V/nA',\n",
      "                                                             b'ScaledOutSignal': 0.0,\n",
      "                                                             b'ScaledOutSignalStr': b'Im',\n",
      "                                                             b'SecondaryAlpha': 1.0,\n",
      "                                                             b'SecondaryLPFCutoff': 100000.0,\n",
      "                                                             b'SeriesResistance': 0.0},\n",
      "                                     b'serial837205_chan2': {b'Alpha': 1.0,\n",
      "                                                             b'ExtCmdSens': 0.02,\n",
      "                                                             b'HardwareType': 1.0,\n",
      "                                                             b'HardwareTypeStr': b'Mult'\n",
      "                                                                                 b'iCla'\n",
      "                                                                                 b'mp 7'\n",
      "                                                                                 b'00B',\n",
      "                                                             b'LPFCutoff': 10000.0,\n",
      "                                                             b'MembraneCap': 0.0,\n",
      "                                                             b'OperatingMode': 0.0,\n",
      "                                                             b'OperatingModeStr': b'V-Cl'\n",
      "                                                                                  b'amp',\n",
      "                                                             b'RawOutSignal': 12.0,\n",
      "                                                             b'RawOutSignalStr': b'Vm',\n",
      "                                                             b'RawScaleFactor': 1.0,\n",
      "                                                             b'RawScaleFactorUnits': 0.0,\n",
      "                                                             b'RawScaleFactorUnitsStr': b'V/V',\n",
      "                                                             b'ScaleFactor': 0.5,\n",
      "                                                             b'ScaleFactorUnits': 6.0,\n",
      "                                                             b'ScaleFactorUnitsStr': b'V/nA',\n",
      "                                                             b'ScaledOutSignal': 0.0,\n",
      "                                                             b'ScaledOutSignalStr': b'Im',\n",
      "                                                             b'SecondaryAlpha': 1.0,\n",
      "                                                             b'SecondaryLPFCutoff': 100000.0,\n",
      "                                                             b'SeriesResistance': 0.0}},\n",
      "           b'NMPrefix_Record': {b'ChanA': {b'AutoScale': 1.0,\n",
      "                                           b'FreezeX': 0.0,\n",
      "                                           b'FreezeY': 0.0,\n",
      "                                           b'GX0': 5.25,\n",
      "                                           b'GX1': 690.75,\n",
      "                                           b'GY0': 41.75,\n",
      "                                           b'GY1': 383.0,\n",
      "                                           b'Overlay': 0.0,\n",
      "                                           b'OverlayCount': 0.0,\n",
      "                                           b'SmoothA': b'binomial',\n",
      "                                           b'SmoothN': 40.0,\n",
      "                                           b'Xmax': 999.99,\n",
      "                                           b'Xmin': 0.0,\n",
      "                                           b'Ymax': -0.45158396605499795,\n",
      "                                           b'Ymin': -1.4657693092380844},\n",
      "                                b'ChanSelect_List': b'0;',\n",
      "                                b'ChanWaveNamesA': <WaveRecord 1946670030480>,\n",
      "                                b'Chan_WaveListA': b'RecordA0;RecordA1;Record'\n",
      "                                                   b'A2;RecordA3;RecordA4;Rec'\n",
      "                                                   b'ordA5;RecordA6;RecordA7;'\n",
      "                                                   b'RecordA8;RecordA9;Record'\n",
      "                                                   b'A10;RecordA11;RecordA12;',\n",
      "                                b'CurrentChan': 0.0,\n",
      "                                b'CurrentGrp': 0.0,\n",
      "                                b'CurrentWave': 0.0,\n",
      "                                b'Group0_SetListA': b'RecordA0;RecordA1;Record'\n",
      "                                                    b'A2;RecordA3;RecordA4;Rec'\n",
      "                                                    b'ordA5;RecordA6;RecordA7;'\n",
      "                                                    b'RecordA8;RecordA9;Record'\n",
      "                                                    b'A10;RecordA11;RecordA12;',\n",
      "                                b'GroupsSeqStr': b'0;',\n",
      "                                b'NumActiveWaves': 13.0,\n",
      "                                b'NumChannels': 1.0,\n",
      "                                b'NumGrps': 1.0,\n",
      "                                b'NumWaves': 13.0,\n",
      "                                b'PrefixSelect_WaveList': b'RecordA0;RecordA'\n",
      "                                                          b'1;RecordA2;Recor'\n",
      "                                                          b'dA3;RecordA4;Rec'\n",
      "                                                          b'ordA5;RecordA6;R'\n",
      "                                                          b'ecordA7;RecordA8'\n",
      "                                                          b';RecordA9;Record'\n",
      "                                                          b'A10;RecordA11;Re'\n",
      "                                                          b'cordA12;',\n",
      "                                b'Set1_SetListA': b'',\n",
      "                                b'Set2_SetListA': b'',\n",
      "                                b'SetX_SetListA': b'',\n",
      "                                b'WaveSelect': b'All',\n",
      "                                b'WaveSelect_ListA': b'RecordA0;RecordA1;Record'\n",
      "                                                     b'A2;RecordA3;RecordA4;Rec'\n",
      "                                                     b'ordA5;RecordA6;RecordA7;'\n",
      "                                                     b'RecordA8;RecordA9;Record'\n",
      "                                                     b'A10;RecordA11;RecordA12;'},\n",
      "           b'Notes': {b'F_Cm': nan,\n",
      "                      b'F_Folder': b'nm10Jun2024c1_000',\n",
      "                      b'F_Relectrode': nan,\n",
      "                      b'F_Stim': b'nmStimSofia1',\n",
      "                      b'F_Tbgn': b'17:19:13',\n",
      "                      b'F_Temp': nan,\n",
      "                      b'F_Tend': b'17:21:25',\n",
      "                      b'FileType': b'NMNotes',\n",
      "                      b'H_Lab': b'Your Lab/Address',\n",
      "                      b'H_Name': b'Nunzio',\n",
      "                      b'H_Title': b'Experiment Title'},\n",
      "           b'RecordA0': <WaveRecord 1946511969296>,\n",
      "           b'RecordA1': <WaveRecord 1946665460560>,\n",
      "           b'RecordA10': <WaveRecord 1946512647824>,\n",
      "           b'RecordA11': <WaveRecord 1946669698960>,\n",
      "           b'RecordA12': <WaveRecord 1946665457552>,\n",
      "           b'RecordA2': <WaveRecord 1946470503440>,\n",
      "           b'RecordA3': <WaveRecord 1946737357520>,\n",
      "           b'RecordA4': <WaveRecord 1946511616976>,\n",
      "           b'RecordA5': <WaveRecord 1946511997328>,\n",
      "           b'RecordA6': <WaveRecord 1946469876752>,\n",
      "           b'RecordA7': <WaveRecord 1946511450128>,\n",
      "           b'RecordA8': <WaveRecord 1946669773008>,\n",
      "           b'RecordA9': <WaveRecord 1946511606800>,\n",
      "           b'SampleInterval': 0.01,\n",
      "           b'SamplesPerWave': 100000.0,\n",
      "           b'V_Progress': 0.0,\n",
      "           b'WavePrefix': b'Record',\n",
      "           b'nmStimSofia1': {b'AcqMode': 0.0,\n",
      "                             b'BoardConfigs': {b'ADCboard': <WaveRecord 1946737329488>,\n",
      "                                               b'ADCchan': <WaveRecord 1946737669328>,\n",
      "                                               b'ADCgain': <WaveRecord 1946737664912>,\n",
      "                                               b'ADCmode': <WaveRecord 1946737660240>,\n",
      "                                               b'ADCname': <WaveRecord 1946670655952>,\n",
      "                                               b'ADCscale': <WaveRecord 1946670653520>,\n",
      "                                               b'ADCtgain': <WaveRecord 1946737505616>,\n",
      "                                               b'ADCunits': <WaveRecord 1946669970960>,\n",
      "                                               b'DACboard': <WaveRecord 1946669977744>,\n",
      "                                               b'DACchan': <WaveRecord 1946670653712>,\n",
      "                                               b'DACname': <WaveRecord 1946737493904>,\n",
      "                                               b'DACscale': <WaveRecord 1946737470800>,\n",
      "                                               b'DACunits': <WaveRecord 1946737505360>,\n",
      "                                               b'TTLboard': <WaveRecord 1946511793616>,\n",
      "                                               b'TTLchan': <WaveRecord 1946737473296>,\n",
      "                                               b'TTLname': <WaveRecord 1946511602256>,\n",
      "                                               b'TTLscale': <WaveRecord 1946669773200>,\n",
      "                                               b'TTLunits': <WaveRecord 1946737294352>},\n",
      "                             b'ChanA': {b'AutoScale': 1.0,\n",
      "                                        b'FreezeX': 0.0,\n",
      "                                        b'FreezeY': 0.0,\n",
      "                                        b'GX0': 5.25,\n",
      "                                        b'GX1': 690.75,\n",
      "                                        b'GY0': 41.75,\n",
      "                                        b'GY1': 383.0,\n",
      "                                        b'Overlay': 0.0,\n",
      "                                        b'OverlayCount': 0.0,\n",
      "                                        b'SmoothA': b'binomial',\n",
      "                                        b'SmoothN': 40.0,\n",
      "                                        b'Xmax': 999.99,\n",
      "                                        b'Xmin': 0.0,\n",
      "                                        b'Ymax': -1.3834748840901798,\n",
      "                                        b'Ymin': -2.612375689667814},\n",
      "                             b'CurrentChan': 0.0,\n",
      "                             b'CurrentFile': b'C:Users:Marcel:Desktop:protocol '\n",
      "                                             b'sofia:nmStimSofia1.pxp',\n",
      "                             b'DAC_0_0': <WaveRecord 1946737309456>,\n",
      "                             b'DAC_0_pulse': <WaveRecord 1946737424144>,\n",
      "                             b'DAC_1_0': <WaveRecord 1946512639120>,\n",
      "                             b'DAC_1_pulse': <WaveRecord 1946667669968>,\n",
      "                             b'DAC_2_0': <WaveRecord 1946669958928>,\n",
      "                             b'DAC_2_pulse': <WaveRecord 1946737414224>,\n",
      "                             b'DataFileType': b'IgorBin',\n",
      "                             b'FileDate': b'28 Feb 2018',\n",
      "                             b'FileDateTime': 3602659321.382,\n",
      "                             b'FileFormat': 3.097,\n",
      "                             b'FileFormatStr': b'NM3.0a',\n",
      "                             b'FileTime': b'10:42:01',\n",
      "                             b'FileType': b'NMStim',\n",
      "                             b'InterRepTime': 0.0,\n",
      "                             b'InterStimFxnList': b'',\n",
      "                             b'InterStimTime': 9000.0,\n",
      "                             b'MultiClamp700': 0.0,\n",
      "                             b'NumPulseVar': 12.0,\n",
      "                             b'NumStimReps': 40.0,\n",
      "                             b'NumStimWaves': 1.0,\n",
      "                             b'PostStimFxnList': b'',\n",
      "                             b'PreStimFxnList': b'',\n",
      "                             b'RepRate': 0.1,\n",
      "                             b'SampleInterval': 0.01,\n",
      "                             b'SamplesPerWave': 100000.0,\n",
      "                             b'StimRate': 0.1,\n",
      "                             b'StimTag': b'',\n",
      "                             b'TotalTime': 400.0,\n",
      "                             b'UseGlobalBoardConfigs': 1.0,\n",
      "                             b'Version': 3.097,\n",
      "                             b'VersionStr': b'3.0a',\n",
      "                             b'WaveLength': 1000.0,\n",
      "                             b'WavePrefix': b'Record',\n",
      "                             b'uDAC_0_0': <WaveRecord 1946669970384>,\n",
      "                             b'uDAC_1_0': <WaveRecord 1946737412368>,\n",
      "                             b'uDAC_2_0': <WaveRecord 1946667665872>},\n",
      "           b'xLabel': b'ms',\n",
      "           b'yLabel': <WaveRecord 1946669761552>,\n",
      "           'K0': 0.0,\n",
      "           'K1': 0.0,\n",
      "           'K10': 0.0,\n",
      "           'K11': 0.0,\n",
      "           'K12': 0.0,\n",
      "           'K13': 0.0,\n",
      "           'K14': 0.0,\n",
      "           'K15': 0.0,\n",
      "           'K16': 0.0,\n",
      "           'K17': 0.0,\n",
      "           'K18': 0.0,\n",
      "           'K19': 0.0,\n",
      "           'K2': 0.0,\n",
      "           'K20': 0.0,\n",
      "           'K3': 0.0,\n",
      "           'K4': 0.0,\n",
      "           'K5': 0.0,\n",
      "           'K6': 0.0,\n",
      "           'K7': 0.0,\n",
      "           'K8': 0.0,\n",
      "           'K9': 0.0}})\n"
     ]
    }
   ],
   "source": [
    "pprint.pprint(data)"
   ]
  },
  {
   "cell_type": "code",
   "execution_count": 18,
   "id": "661001da-1755-4b8d-aa20-f2fc513d2ad5",
   "metadata": {},
   "outputs": [],
   "source": [
    "import matplotlib.pylab as plt\n",
    "import numpy as np"
   ]
  },
  {
   "cell_type": "code",
   "execution_count": 19,
   "id": "7563251b-ecca-4f3c-825e-0367ebf3a1e6",
   "metadata": {},
   "outputs": [],
   "source": [
    "Data = data[1]['root']"
   ]
  },
  {
   "cell_type": "code",
   "execution_count": 20,
   "id": "1a8e821e-7e65-4e60-b93b-4f2ad422bbb3",
   "metadata": {},
   "outputs": [
    {
     "data": {
      "text/plain": [
       "dict_keys(['K0', 'K1', 'K2', 'K3', 'K4', 'K5', 'K6', 'K7', 'K8', 'K9', 'K10', 'K11', 'K12', 'K13', 'K14', 'K15', 'K16', 'K17', 'K18', 'K19', 'K20', b'FileFormat', b'FileDateTime', b'SamplesPerWave', b'SampleInterval', b'CT_RecordMode', b'V_Progress', b'FileFormatStr', b'FileType', b'FileDate', b'FileTime', b'WavePrefix', b'CurrentPrefix', b'xLabel', b'AcqMode', b'FileFinish', b'yLabel', b'CT_TimeStamp', b'CT_TimeIntvl', b'RecordA0', b'RecordA1', b'RecordA2', b'RecordA3', b'RecordA4', b'RecordA5', b'RecordA6', b'RecordA7', b'RecordA8', b'RecordA9', b'RecordA10', b'RecordA11', b'RecordA12', b'NMPrefix_Record', b'nmStimSofia1', b'MultiClampTelegraphs', b'Notes'])"
      ]
     },
     "execution_count": 20,
     "metadata": {},
     "output_type": "execute_result"
    }
   ],
   "source": [
    "Data.keys()"
   ]
  },
  {
   "cell_type": "code",
   "execution_count": 23,
   "id": "2d49e44c-d75c-4f00-8ac6-7c543aed0f33",
   "metadata": {},
   "outputs": [
    {
     "name": "stdout",
     "output_type": "stream",
     "text": [
      "[-0.80384018 -0.80061915 -0.7961097  ... -0.78773501 -0.78966763\n",
      " -0.78451397]\n"
     ]
    },
    {
     "ename": "KeyError",
     "evalue": "b'RecordA13'",
     "output_type": "error",
     "traceback": [
      "\u001b[1;31m---------------------------------------------------------------------------\u001b[0m",
      "\u001b[1;31mKeyError\u001b[0m                                  Traceback (most recent call last)",
      "Cell \u001b[1;32mIn[23], line 5\u001b[0m\n\u001b[0;32m      3\u001b[0m DATA \u001b[38;5;241m=\u001b[39m []\n\u001b[0;32m      4\u001b[0m \u001b[38;5;28;01mfor\u001b[39;00m i \u001b[38;5;129;01min\u001b[39;00m \u001b[38;5;28mrange\u001b[39m(\u001b[38;5;241m14\u001b[39m):\n\u001b[1;32m----> 5\u001b[0m     DATA\u001b[38;5;241m.\u001b[39mappend(Data[\u001b[38;5;124mb\u001b[39m\u001b[38;5;124m'\u001b[39m\u001b[38;5;124mRecordA\u001b[39m\u001b[38;5;132;01m%i\u001b[39;00m\u001b[38;5;124m'\u001b[39m\u001b[38;5;241m%\u001b[39mi]\u001b[38;5;241m.\u001b[39mwave[\u001b[38;5;124m'\u001b[39m\u001b[38;5;124mwave\u001b[39m\u001b[38;5;124m'\u001b[39m][\u001b[38;5;124m'\u001b[39m\u001b[38;5;124mwData\u001b[39m\u001b[38;5;124m'\u001b[39m])\n\u001b[0;32m      6\u001b[0m DATA \u001b[38;5;241m=\u001b[39m np\u001b[38;5;241m.\u001b[39marray(DATA)\n\u001b[0;32m      8\u001b[0m plt\u001b[38;5;241m.\u001b[39mplot(DATA\u001b[38;5;241m.\u001b[39mmean(axis\u001b[38;5;241m=\u001b[39m\u001b[38;5;241m0\u001b[39m))\n",
      "\u001b[1;31mKeyError\u001b[0m: b'RecordA13'"
     ]
    }
   ],
   "source": [
    "print(Data[b'RecordA0'].wave['wave']['wData'])\n",
    "\n",
    "DATA = []\n",
    "for i in range(14):\n",
    "    DATA.append(Data[b'RecordA%i'%i].wave['wave']['wData'])\n",
    "DATA = np.array(DATA)\n",
    "\n",
    "plt.plot(DATA.mean(axis=0))"
   ]
  },
  {
   "cell_type": "code",
   "execution_count": 39,
   "id": "c066f02c-9101-4f61-ae8f-f1a8fdc77734",
   "metadata": {},
   "outputs": [
    {
     "data": {
      "text/plain": [
       "{b'serial837205_chan1': {b'OperatingMode': 0.0,\n",
       "  b'HardwareType': 1.0,\n",
       "  b'ExtCmdSens': 0.02,\n",
       "  b'MembraneCap': 0.0,\n",
       "  b'SeriesResistance': 0.0,\n",
       "  b'ScaledOutSignal': 0.0,\n",
       "  b'ScaleFactorUnits': 6.0,\n",
       "  b'ScaleFactor': 0.5,\n",
       "  b'Alpha': 1.0,\n",
       "  b'LPFCutoff': 10000.0,\n",
       "  b'RawOutSignal': 0.0,\n",
       "  b'RawScaleFactorUnits': 6.0,\n",
       "  b'RawScaleFactor': 0.5,\n",
       "  b'SecondaryAlpha': 1.0,\n",
       "  b'SecondaryLPFCutoff': 100000.0,\n",
       "  b'OperatingModeStr': b'V-Clamp',\n",
       "  b'HardwareTypeStr': b'MultiClamp 700B',\n",
       "  b'ScaledOutSignalStr': b'Im',\n",
       "  b'ScaleFactorUnitsStr': b'V/nA',\n",
       "  b'RawOutSignalStr': b'Im',\n",
       "  b'RawScaleFactorUnitsStr': b'V/nA'},\n",
       " b'serial837205_chan2': {b'OperatingMode': 0.0,\n",
       "  b'HardwareType': 1.0,\n",
       "  b'ExtCmdSens': 0.02,\n",
       "  b'MembraneCap': 0.0,\n",
       "  b'SeriesResistance': 0.0,\n",
       "  b'ScaledOutSignal': 0.0,\n",
       "  b'ScaleFactorUnits': 6.0,\n",
       "  b'ScaleFactor': 0.5,\n",
       "  b'Alpha': 1.0,\n",
       "  b'LPFCutoff': 10000.0,\n",
       "  b'RawOutSignal': 0.0,\n",
       "  b'RawScaleFactorUnits': 6.0,\n",
       "  b'RawScaleFactor': 0.5,\n",
       "  b'SecondaryAlpha': 1.0,\n",
       "  b'SecondaryLPFCutoff': 100000.0,\n",
       "  b'OperatingModeStr': b'V-Clamp',\n",
       "  b'HardwareTypeStr': b'MultiClamp 700B',\n",
       "  b'ScaledOutSignalStr': b'Im',\n",
       "  b'ScaleFactorUnitsStr': b'V/nA',\n",
       "  b'RawOutSignalStr': b'Im',\n",
       "  b'RawScaleFactorUnitsStr': b'V/nA'}}"
      ]
     },
     "execution_count": 39,
     "metadata": {},
     "output_type": "execute_result"
    }
   ],
   "source": [
    "Data[b'MultiClampTelegraphs']"
   ]
  },
  {
   "cell_type": "code",
   "execution_count": 47,
   "id": "9aaf3bfb-6efd-4e87-89ae-5cbbff5883ba",
   "metadata": {},
   "outputs": [
    {
     "name": "stdout",
     "output_type": "stream",
     "text": [
      "0.0\n",
      "0.0\n",
      "0.0\n",
      "0.0\n",
      "0.0\n",
      "0.0\n",
      "0.0\n",
      "0.0\n",
      "0.0\n",
      "0.0\n",
      "0.0\n",
      "0.0\n",
      "0.0\n",
      "0.0\n",
      "0.0\n",
      "0.0\n",
      "0.0\n",
      "0.0\n",
      "0.0\n",
      "0.0\n"
     ]
    }
   ],
   "source": [
    "for i in range(20):\n",
    "    print(Data['K%i'%i])"
   ]
  },
  {
   "cell_type": "code",
   "execution_count": 64,
   "id": "15fbb89b-caaf-4b7f-bac4-0a7c699ae64c",
   "metadata": {},
   "outputs": [
    {
     "data": {
      "text/plain": [
       "{b'Version': 3.097,\n",
       " b'AcqMode': 0.0,\n",
       " b'CurrentChan': 0.0,\n",
       " b'WaveLength': 1000.0,\n",
       " b'SampleInterval': 0.01,\n",
       " b'SamplesPerWave': 100000.0,\n",
       " b'NumStimWaves': 1.0,\n",
       " b'InterStimTime': 9000.0,\n",
       " b'NumStimReps': 40.0,\n",
       " b'InterRepTime': 0.0,\n",
       " b'StimRate': 0.1,\n",
       " b'RepRate': 0.1,\n",
       " b'TotalTime': 400.0,\n",
       " b'NumPulseVar': 12.0,\n",
       " b'UseGlobalBoardConfigs': 1.0,\n",
       " b'MultiClamp700': 0.0,\n",
       " b'FileFormat': 3.097,\n",
       " b'FileDateTime': 3602659321.382,\n",
       " b'FileType': b'NMStim',\n",
       " b'VersionStr': b'3.0a',\n",
       " b'StimTag': b'',\n",
       " b'WavePrefix': b'Record',\n",
       " b'InterStimFxnList': b'',\n",
       " b'PreStimFxnList': b'',\n",
       " b'PostStimFxnList': b'',\n",
       " b'CurrentFile': b'C:Users:Marcel:Desktop:protocol sofia:nmStimSofia1.pxp',\n",
       " b'DataFileType': b'IgorBin',\n",
       " b'FileFormatStr': b'NM3.0a',\n",
       " b'FileDate': b'28 Feb 2018',\n",
       " b'FileTime': b'10:42:01',\n",
       " b'DAC_0_pulse': <WaveRecord 1570070669008>,\n",
       " b'DAC_1_pulse': <WaveRecord 1570070170320>,\n",
       " b'DAC_2_pulse': <WaveRecord 1570070599632>,\n",
       " b'DAC_2_0': <WaveRecord 1570001567568>,\n",
       " b'uDAC_2_0': <WaveRecord 1570000746896>,\n",
       " b'DAC_0_0': <WaveRecord 1570070702736>,\n",
       " b'uDAC_0_0': <WaveRecord 1570070552784>,\n",
       " b'DAC_1_0': <WaveRecord 1570069527632>,\n",
       " b'uDAC_1_0': <WaveRecord 1569999599952>,\n",
       " b'BoardConfigs': {b'ADCname': <WaveRecord 1569999845392>,\n",
       "  b'ADCunits': <WaveRecord 1570070803856>,\n",
       "  b'ADCscale': <WaveRecord 1570070489424>,\n",
       "  b'ADCboard': <WaveRecord 1570002502864>,\n",
       "  b'ADCchan': <WaveRecord 1570070839376>,\n",
       "  b'ADCmode': <WaveRecord 1570070432656>,\n",
       "  b'ADCgain': <WaveRecord 1570069982160>,\n",
       "  b'ADCtgain': <WaveRecord 1570070164944>,\n",
       "  b'DACname': <WaveRecord 1570070958224>,\n",
       "  b'DACunits': <WaveRecord 1570069519760>,\n",
       "  b'DACscale': <WaveRecord 1570070021520>,\n",
       "  b'DACboard': <WaveRecord 1570069392400>,\n",
       "  b'DACchan': <WaveRecord 1570071036432>,\n",
       "  b'TTLname': <WaveRecord 1570070697360>,\n",
       "  b'TTLunits': <WaveRecord 1570069522064>,\n",
       "  b'TTLscale': <WaveRecord 1570070966928>,\n",
       "  b'TTLboard': <WaveRecord 1570070968336>,\n",
       "  b'TTLchan': <WaveRecord 1570070993040>},\n",
       " b'ChanA': {b'SmoothN': 40.0,\n",
       "  b'Overlay': 0.0,\n",
       "  b'OverlayCount': 0.0,\n",
       "  b'GX0': 5.25,\n",
       "  b'GY0': 41.75,\n",
       "  b'GX1': 690.75,\n",
       "  b'GY1': 383.0,\n",
       "  b'Xmin': 0.0,\n",
       "  b'Xmax': 999.99,\n",
       "  b'Ymin': -0.5414434288930036,\n",
       "  b'Ymax': 0.5437062104402761,\n",
       "  b'AutoScale': 1.0,\n",
       "  b'FreezeX': 0.0,\n",
       "  b'FreezeY': 0.0,\n",
       "  b'SmoothA': b'binomial'}}"
      ]
     },
     "execution_count": 64,
     "metadata": {},
     "output_type": "execute_result"
    }
   ],
   "source": [
    "data[1]['root'][b'nmStimSofia1']"
   ]
  },
  {
   "cell_type": "code",
   "execution_count": 88,
   "id": "5e49a905-16bd-46ba-85d2-e8a56c1bd577",
   "metadata": {},
   "outputs": [
    {
     "name": "stdout",
     "output_type": "stream",
     "text": [
      "{'wave': 0, 'pulse': 'square', 'amp': -5, 'onset': 100, 'width': 100}\n",
      "{'wave': 0, 'train': 'fixed', 'tbgn': 100, 'tend': 150, 'interval': 50, 'pulse': 'square', 'amp': 5, 'width': 1}\n"
     ]
    }
   ],
   "source": [
    "pulse_DAC0 = data[1]['root'][b'nmStimSofia1'][b'DAC_0_pulse'].wave['wave']['wData'][0]\n",
    "keys_DAC0 = ['wave', 'pulse', 'amp', 'onset', 'width']\n",
    "params_DAC0 = {}\n",
    "for key in keys_DAC0:\n",
    "    value = str(pulse_DAC0).split('%s=' % key)[1].split(';')[0]\n",
    "    if value.lstrip('-').isdigit():\n",
    "        params_DAC0[key] = int(value)\n",
    "    elif value.isalpha():\n",
    "        params_DAC0[key] = value\n",
    "    else:\n",
    "        print(\"error: value is not an integer nor a string\")\n",
    "\n",
    "pulse_DAC1 = data[1]['root'][b'nmStimSofia1'][b'DAC_1_pulse'].wave['wave']['wData'][0]\n",
    "keys_DAC1 = ['wave', 'train', 'tbgn', 'tend', 'interval', 'pulse', 'amp', 'width']\n",
    "params_DAC1 = {}\n",
    "for key in keys_DAC1:\n",
    "    value = str(pulse_DAC1).split('%s=' % key)[1].split(';')[0]\n",
    "    if value.lstrip('-').isdigit():\n",
    "        params_DAC1[key] = int(value)\n",
    "    elif value.isalpha():\n",
    "        params_DAC1[key] = value\n",
    "    else:\n",
    "        print(\"error: value is not an integer nor a string\")\n",
    "\n",
    "print(params_DAC0)\n",
    "print(params_DAC1)"
   ]
  },
  {
   "cell_type": "code",
   "execution_count": 7,
   "id": "07d6af42-bfdb-436a-a06b-b3072ca4986d",
   "metadata": {},
   "outputs": [
    {
     "name": "stdout",
     "output_type": "stream",
     "text": [
      "[0. 0. 0. ... 0. 0. 0.]\n"
     ]
    },
    {
     "data": {
      "text/plain": [
       "[<matplotlib.lines.Line2D at 0x29b0ca9b310>]"
      ]
     },
     "execution_count": 7,
     "metadata": {},
     "output_type": "execute_result"
    },
    {
     "data": {
      "image/png": "[encoded data removed]",
      "text/plain": [
       "<Figure size 640x480 with 1 Axes>"
      ]
     },
     "metadata": {},
     "output_type": "display_data"
    }
   ],
   "source": [
    "pulse_DAC0 = data[1]['root'][b'nmStimSofia1'][b'DAC_0_0'].wave['wave']['wData']\n",
    "print(pulse_DAC0)\n",
    "len(pulse_DAC0)\n",
    "plt.plot(pulse_DAC0)"
   ]
  },
  {
   "cell_type": "code",
   "execution_count": 8,
   "id": "c1ba9473-a891-45d6-aa23-ab249e1bb1ad",
   "metadata": {},
   "outputs": [
    {
     "name": "stdout",
     "output_type": "stream",
     "text": [
      "[-2.3115717e-08 -2.1736923e-09 -3.0742086e-08 ... -2.4164654e-08\n",
      "  0.0000000e+00  0.0000000e+00]\n"
     ]
    },
    {
     "data": {
      "text/plain": [
       "[<matplotlib.lines.Line2D at 0x29b0df16810>]"
      ]
     },
     "execution_count": 8,
     "metadata": {},
     "output_type": "execute_result"
    },
    {
     "data": {
      "image/png": "[encoded data removed]",
      "text/plain": [
       "<Figure size 640x480 with 1 Axes>"
      ]
     },
     "metadata": {},
     "output_type": "display_data"
    }
   ],
   "source": [
    "pulse_DAC1 = data[1]['root'][b'nmStimSofia1'][b'DAC_1_0'].wave['wave']['wData']\n",
    "print(pulse_DAC1)\n",
    "len(pulse_DAC1)\n",
    "plt.plot(pulse_DAC1)"
   ]
  },
  {
   "cell_type": "code",
   "execution_count": 13,
   "id": "d007b342-0bdf-4467-a285-50907e7e5ee2",
   "metadata": {},
   "outputs": [
    {
     "name": "stdout",
     "output_type": "stream",
     "text": [
      "b'wave=0;pulse=square;amp=-5;onset=100;width=100;'\n",
      "b'off=1;wave=0;train=fixed;tbgn=100;tend=150;interval=50;pulse=square;amp=5;width=1;'\n"
     ]
    }
   ],
   "source": [
    "print(data[1]['root'][b'nmStimSofia1'][b'DAC_0_pulse'].wave['wave']['wData'][0])\n",
    "print(data[1]['root'][b'nmStimSofia1'][b'DAC_1_pulse'].wave['wave']['wData'][0])"
   ]
  },
  {
   "cell_type": "code",
   "execution_count": 100,
   "id": "b42a0c43-8280-4e3e-984c-b7d0277e2fa1",
   "metadata": {},
   "outputs": [
    {
     "ename": "TypeError",
     "evalue": "startswith first arg must be bytes or a tuple of bytes, not str",
     "output_type": "error",
     "traceback": [
      "\u001b[1;31m------------------------------------------------------------------------\u001b[0m",
      "\u001b[1;31mTypeError\u001b[0m                              Traceback (most recent call last)",
      "Cell \u001b[1;32mIn[100], line 1\u001b[0m\n\u001b[1;32m----> 1\u001b[0m cnt \u001b[38;5;241m=\u001b[39m \u001b[38;5;28msum\u001b[39m([\u001b[38;5;241m1\u001b[39m \u001b[38;5;28;01mfor\u001b[39;00m key \u001b[38;5;129;01min\u001b[39;00m data[\u001b[38;5;241m1\u001b[39m][\u001b[38;5;124m'\u001b[39m\u001b[38;5;124mroot\u001b[39m\u001b[38;5;124m'\u001b[39m]\u001b[38;5;241m.\u001b[39mkeys() \u001b[38;5;28;01mif\u001b[39;00m key\u001b[38;5;241m.\u001b[39mstartswith(\u001b[38;5;124m'\u001b[39m\u001b[38;5;124mRecordA\u001b[39m\u001b[38;5;124m'\u001b[39m)])\n",
      "Cell \u001b[1;32mIn[100], line 1\u001b[0m, in \u001b[0;36m<listcomp>\u001b[1;34m(.0)\u001b[0m\n\u001b[1;32m----> 1\u001b[0m cnt \u001b[38;5;241m=\u001b[39m \u001b[38;5;28msum\u001b[39m([\u001b[38;5;241m1\u001b[39m \u001b[38;5;28;01mfor\u001b[39;00m key \u001b[38;5;129;01min\u001b[39;00m data[\u001b[38;5;241m1\u001b[39m][\u001b[38;5;124m'\u001b[39m\u001b[38;5;124mroot\u001b[39m\u001b[38;5;124m'\u001b[39m]\u001b[38;5;241m.\u001b[39mkeys() \u001b[38;5;28;01mif\u001b[39;00m key\u001b[38;5;241m.\u001b[39mstartswith(\u001b[38;5;124m'\u001b[39m\u001b[38;5;124mRecordA\u001b[39m\u001b[38;5;124m'\u001b[39m)])\n",
      "\u001b[1;31mTypeError\u001b[0m: startswith first arg must be bytes or a tuple of bytes, not str"
     ]
    }
   ],
   "source": [
    "cnt = sum([1 for key in data[1]['root'].keys() if key.startswith('RecordA')])"
   ]
  }
 ],
 "metadata": {
  "kernelspec": {
   "display_name": "Python 3 (ipykernel)",
   "language": "python",
   "name": "python3"
  },
  "language_info": {
   "codemirror_mode": {
    "name": "ipython",
    "version": 3
   },
   "file_extension": ".py",
   "mimetype": "text/x-python",
   "name": "python",
   "nbconvert_exporter": "python",
   "pygments_lexer": "ipython3",
   "version": "3.12.4"
  }
 },
 "nbformat": 4,
 "nbformat_minor": 5
}
